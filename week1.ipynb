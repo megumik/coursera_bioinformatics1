{
 "cells": [
  {
   "cell_type": "markdown",
   "metadata": {},
   "source": [
    "    PatternCount(Text, Pattern)\n",
    "        count ← 0\n",
    "        for i ← 0 to |Text| − |Pattern|\n",
    "            if Text(i, |Pattern|) = Pattern\n",
    "                count ← count + 1\n",
    "        return count"
   ]
  },
  {
   "cell_type": "code",
   "execution_count": 1,
   "metadata": {},
   "outputs": [],
   "source": [
    "def PatternCount(Text, Pattern):\n",
    "    count = 0\n",
    "    for i in range(len(Text) - len(Pattern) + 1):\n",
    "        if Text[i:i+len(Pattern)] == Pattern:\n",
    "            count += 1\n",
    "    return count"
   ]
  },
  {
   "cell_type": "code",
   "execution_count": 2,
   "metadata": {},
   "outputs": [
    {
     "data": {
      "text/plain": [
       "1"
      ]
     },
     "execution_count": 2,
     "metadata": {},
     "output_type": "execute_result"
    }
   ],
   "source": [
    "PatternCount(\"asdfhksldjfa\", \"fa\")"
   ]
  },
  {
   "cell_type": "markdown",
   "metadata": {},
   "source": [
    "    FrequentWords(Text, k)\n",
    "        FrequentPatterns ← an empty set\n",
    "        for i ← 0 to |Text| − k\n",
    "            Pattern ← the k-mer Text(i, k)\n",
    "            Count(i) ← PatternCount(Text, Pattern)\n",
    "        maxCount ← maximum value in array Count\n",
    "        for i ← 0 to |Text| − k\n",
    "            if Count(i) = maxCount\n",
    "                add Text(i, k) to FrequentPatterns\n",
    "        remove duplicates from FrequentPatterns\n",
    "        return FrequentPatterns"
   ]
  },
  {
   "cell_type": "code",
   "execution_count": 3,
   "metadata": {},
   "outputs": [],
   "source": [
    "def FrequentWords(Text, k):\n",
    "    frequent_patterns = set()\n",
    "    count = []\n",
    "    for i in range(len(Text) - k + 1):\n",
    "        pattern = Text[i: i+k]\n",
    "        #print(pattern)\n",
    "        count.append(PatternCount(Text,pattern))\n",
    "    max_count = max(count)\n",
    "    for i in range(len(Text) - k + 1):\n",
    "        if count[i] == max_count:\n",
    "            frequent_patterns.add(Text[i: i+k])\n",
    "    return list(frequent_patterns)"
   ]
  },
  {
   "cell_type": "code",
   "execution_count": 4,
   "metadata": {},
   "outputs": [
    {
     "data": {
      "text/plain": [
       "['GCAT', 'CATG']"
      ]
     },
     "execution_count": 4,
     "metadata": {},
     "output_type": "execute_result"
    }
   ],
   "source": [
    "FrequentWords(\"ACGTTGCATGTCGCATGATGCATGAGAGCT\", 4)"
   ]
  },
  {
   "cell_type": "code",
   "execution_count": 5,
   "metadata": {},
   "outputs": [],
   "source": [
    "with open(\"data/dataset_2_10.txt\") as f:\n",
    "    text, k = f.read().strip().split(\"\\n\")\n",
    "    freq_words = FrequentWords(text, int(k))"
   ]
  },
  {
   "cell_type": "code",
   "execution_count": 6,
   "metadata": {},
   "outputs": [
    {
     "data": {
      "text/plain": [
       "'TCCCTCCGCTCC CTCCGCTCCCTC CCGCTCCCTCCG CCTCCGCTCCCT CCCTCCGCTCCC CGCTCCCTCCGC TCCGCTCCCTCC'"
      ]
     },
     "execution_count": 6,
     "metadata": {},
     "output_type": "execute_result"
    }
   ],
   "source": [
    "\" \".join(freq_words)"
   ]
  },
  {
   "cell_type": "code",
   "execution_count": 7,
   "metadata": {},
   "outputs": [
    {
     "data": {
      "text/plain": [
       "'12'"
      ]
     },
     "execution_count": 7,
     "metadata": {},
     "output_type": "execute_result"
    }
   ],
   "source": [
    "k"
   ]
  },
  {
   "cell_type": "markdown",
   "metadata": {},
   "source": [
    "Compute PatternToNumber(ATGCAA). (You can complete this exercise by hand.)  \n",
    "\n",
    "Muhammad Ahmad\n",
    "23 days ago\n",
    "Link\n",
    "\n",
    "@Nicole_Fontanese, An easier route is as follows:\n",
    "\n",
    "Just treat the DNA sequence as Base-4 and the index is just this converted to base-10.\n",
    "\n",
    "A = 0\n",
    "\n",
    "C = 1\n",
    "\n",
    "G = 2\n",
    "\n",
    "T = 3\n",
    "\n",
    "So GA in base-10 index: (2 * 4^1) + (0 * 4^0) = 8 + 0 = 8\n",
    "\n",
    "TT in base-10 index: (3 * 4^1) + (3 * 4^0) = 12 + 3 = 15\n",
    "\n",
    "So when comparing we just do a numerical comparison: no need to store a dictionary of kmers (text).\n"
   ]
  },
  {
   "cell_type": "code",
   "execution_count": 8,
   "metadata": {},
   "outputs": [
    {
     "data": {
      "text/plain": [
       "0"
      ]
     },
     "execution_count": 8,
     "metadata": {},
     "output_type": "execute_result"
    }
   ],
   "source": [
    "\"asdfa\".index(\"a\")"
   ]
  },
  {
   "cell_type": "code",
   "execution_count": 9,
   "metadata": {},
   "outputs": [],
   "source": [
    "# pattern2number\n",
    "def pattern2number(pattern):\n",
    "    val = 0\n",
    "    order = \"ACGT\"\n",
    "    for ix, letter in enumerate(pattern[::-1]):\n",
    "        val += pow(4, ix) * order.index(letter)\n",
    "    return val"
   ]
  },
  {
   "cell_type": "code",
   "execution_count": 10,
   "metadata": {},
   "outputs": [
    {
     "data": {
      "text/plain": [
       "912"
      ]
     },
     "execution_count": 10,
     "metadata": {},
     "output_type": "execute_result"
    }
   ],
   "source": [
    "pattern2number(\"ATGCAA\")"
   ]
  },
  {
   "cell_type": "code",
   "execution_count": 11,
   "metadata": {},
   "outputs": [
    {
     "data": {
      "text/plain": [
       "2"
      ]
     },
     "execution_count": 11,
     "metadata": {},
     "output_type": "execute_result"
    }
   ],
   "source": [
    "pattern2number(\"AG\")"
   ]
  },
  {
   "cell_type": "code",
   "execution_count": 12,
   "metadata": {},
   "outputs": [],
   "source": [
    "#def number2pattern(num, k):\n",
    "num = 912\n",
    "k = 6\n",
    "# pattern = \"AG\"\n",
    "def number2pattern(num, k):\n",
    "    pattern = \"\"\n",
    "    order = \"ACGT\"\n",
    "    for idx in reversed(range(1, k)):\n",
    "        letter, num = divmod(num, pow(4, idx))\n",
    "        pattern += order[letter]\n",
    "    pattern += order[num]\n",
    "    return pattern"
   ]
  },
  {
   "cell_type": "code",
   "execution_count": 13,
   "metadata": {},
   "outputs": [
    {
     "data": {
      "text/plain": [
       "'ATGCAA'"
      ]
     },
     "execution_count": 13,
     "metadata": {},
     "output_type": "execute_result"
    }
   ],
   "source": [
    "number2pattern(912, 6)"
   ]
  },
  {
   "cell_type": "code",
   "execution_count": 14,
   "metadata": {},
   "outputs": [
    {
     "data": {
      "text/plain": [
       "'CCCATTC'"
      ]
     },
     "execution_count": 14,
     "metadata": {},
     "output_type": "execute_result"
    }
   ],
   "source": [
    "number2pattern(5437, 7)"
   ]
  },
  {
   "cell_type": "code",
   "execution_count": 15,
   "metadata": {},
   "outputs": [],
   "source": [
    "def number_to_pattern(number, length):\n",
    "    nuc_map = {0: 'A', 1: 'C', 2: 'G', 3: 'T'}\n",
    "    \n",
    "    pattern = ''\n",
    "    for i in range(length):\n",
    "        pattern += nuc_map[number % 4]\n",
    "        number = number // 4\n",
    "        \n",
    "    return pattern[::-1]"
   ]
  },
  {
   "cell_type": "code",
   "execution_count": 16,
   "metadata": {},
   "outputs": [
    {
     "name": "stdout",
     "output_type": "stream",
     "text": [
      "i: 0, number: 1359, pattern: C\n",
      "i: 1, number: 339, pattern: CT\n",
      "i: 2, number: 84, pattern: CTT\n",
      "i: 3, number: 21, pattern: CTTA\n",
      "i: 4, number: 5, pattern: CTTAC\n",
      "i: 5, number: 1, pattern: CTTACC\n",
      "i: 6, number: 0, pattern: CTTACCC\n"
     ]
    }
   ],
   "source": [
    "number = 5437\n",
    "length = 7\n",
    "nuc_map = {0: 'A', 1: 'C', 2: 'G', 3: 'T'}\n",
    "    \n",
    "pattern = ''\n",
    "for i in range(length):\n",
    "    pattern += nuc_map[number % 4]\n",
    "    number = number // 4\n",
    "    print(f\"i: {i}, number: {number}, pattern: {pattern}\")\n",
    "    #input()"
   ]
  },
  {
   "cell_type": "code",
   "execution_count": 17,
   "metadata": {},
   "outputs": [
    {
     "data": {
      "text/plain": [
       "'ACCCATTC'"
      ]
     },
     "execution_count": 17,
     "metadata": {},
     "output_type": "execute_result"
    }
   ],
   "source": [
    "number2pattern(5437, 8)"
   ]
  },
  {
   "cell_type": "markdown",
   "metadata": {},
   "source": [
    "     PatternToNumber(Pattern)\n",
    "        if Pattern contains no symbols\n",
    "            return 0\n",
    "        symbol ← LastSymbol(Pattern)\n",
    "        Prefix ← Prefix(Pattern)\n",
    "        return 4 · PatternToNumber(Prefix) + SymbolToNumber(symbol)"
   ]
  },
  {
   "cell_type": "code",
   "execution_count": 18,
   "metadata": {},
   "outputs": [],
   "source": [
    "def PatternToNumber(Pattern):\n",
    "    order = \"ACGT\"\n",
    "    if not Pattern:\n",
    "        return 0\n",
    "    symbol = Pattern[-1]\n",
    "    prefix = Pattern[:-1]\n",
    "    return 4 * PatternToNumber(prefix) + order.index(symbol)"
   ]
  },
  {
   "cell_type": "code",
   "execution_count": 19,
   "metadata": {},
   "outputs": [
    {
     "data": {
      "text/plain": [
       "11"
      ]
     },
     "execution_count": 19,
     "metadata": {},
     "output_type": "execute_result"
    }
   ],
   "source": [
    "PatternToNumber(\"ACCCATTC\")\n",
    "PatternToNumber(\"AGT\")"
   ]
  },
  {
   "cell_type": "code",
   "execution_count": 21,
   "metadata": {},
   "outputs": [
    {
     "name": "stdout",
     "output_type": "stream",
     "text": [
      "821826073\n"
     ]
    }
   ],
   "source": [
    "with open(\"data/dataset_3010_2.txt\") as f:\n",
    "    text = f.read().strip()\n",
    "    print(PatternToNumber(text))"
   ]
  },
  {
   "cell_type": "markdown",
   "metadata": {},
   "source": [
    "    NumberToPattern(index, k)\n",
    "        if k = 1\n",
    "            return NumberToSymbol(index)\n",
    "        prefixIndex ← Quotient(index, 4)\n",
    "        r ← Remainder(index, 4)\n",
    "        symbol ← NumberToSymbol(r)\n",
    "        PrefixPattern ← NumberToPattern(prefixIndex, k − 1)\n",
    "        return concatenation of PrefixPattern with symbol"
   ]
  },
  {
   "cell_type": "code",
   "execution_count": 23,
   "metadata": {},
   "outputs": [],
   "source": [
    "def NumberToPattern(index, k):\n",
    "    if k == 1:\n",
    "        return \"ACGT\"[index]\n",
    "    prefix_index = index // 4\n",
    "    r = index % 4\n",
    "    symbol = \"ACGT\"[r]\n",
    "    prefix_pattern = NumberToPattern(prefix_index, k - 1)\n",
    "    return prefix_pattern + symbol"
   ]
  },
  {
   "cell_type": "code",
   "execution_count": 24,
   "metadata": {
    "scrolled": true
   },
   "outputs": [
    {
     "name": "stdout",
     "output_type": "stream",
     "text": [
      "AAAACCAACTC\n"
     ]
    }
   ],
   "source": [
    "with open(\"./data/dataset_3010_5-2.txt\") as f:\n",
    "    index, k = map(int, f.read().strip().split())\n",
    "    print(NumberToPattern(index, k))"
   ]
  },
  {
   "cell_type": "code",
   "execution_count": 25,
   "metadata": {
    "scrolled": true
   },
   "outputs": [
    {
     "data": {
      "text/plain": [
       "5149"
      ]
     },
     "execution_count": 25,
     "metadata": {},
     "output_type": "execute_result"
    }
   ],
   "source": [
    "index"
   ]
  },
  {
   "cell_type": "markdown",
   "metadata": {},
   "source": [
    "    ComputingFrequencies(Text, k)\n",
    "        for i ← 0 to 4k − 1\n",
    "            FrequencyArray(i) ← 0\n",
    "        for i ← 0 to |Text| − k\n",
    "            Pattern ← Text(i, k)\n",
    "            j ← PatternToNumber(Pattern)\n",
    "            FrequencyArray(j) ← FrequencyArray(j) + 1\n",
    "        return FrequencyArray"
   ]
  },
  {
   "cell_type": "code",
   "execution_count": 26,
   "metadata": {},
   "outputs": [],
   "source": [
    "def ComputingFrequencies(text, k):\n",
    "    frequency_array = [0] * pow(4, k)\n",
    "    for i in range(len(text) - k + 1):\n",
    "        pattern = text[i: i+k]\n",
    "        j = PatternToNumber(pattern)\n",
    "        frequency_array[j] += 1\n",
    "    return frequency_array"
   ]
  },
  {
   "cell_type": "code",
   "execution_count": 27,
   "metadata": {},
   "outputs": [
    {
     "data": {
      "text/plain": [
       "[2, 1, 0, 0, 0, 0, 2, 2, 1, 2, 1, 0, 0, 1, 1, 0]"
      ]
     },
     "execution_count": 27,
     "metadata": {},
     "output_type": "execute_result"
    }
   ],
   "source": [
    "ComputingFrequencies(\"ACGCGGCTCTGAAA\", 2)"
   ]
  },
  {
   "cell_type": "code",
   "execution_count": 28,
   "metadata": {
    "scrolled": false
   },
   "outputs": [],
   "source": [
    "with open(\"data/dataset_2994_5.txt\") as f:\n",
    "    text, k = f.read().strip().split()\n",
    "    output = \" \".join(map(str, ComputingFrequencies(text, int(k))))+\"\\n\"\n",
    "with open(\"answer/dataset_2994_5_answer.txt\", \"w\") as fout:\n",
    "    fout.write(output)"
   ]
  },
  {
   "cell_type": "markdown",
   "metadata": {},
   "source": [
    "相補鎖に変換"
   ]
  },
  {
   "cell_type": "code",
   "execution_count": 29,
   "metadata": {},
   "outputs": [],
   "source": [
    "def ReverseComplement(Pattern):\n",
    "    pairs = {\"A\": \"T\", \"T\": \"A\", \"G\": \"C\", \"C\": \"G\"}\n",
    "    rc = \"\"\n",
    "    for letter in Pattern[::-1]:\n",
    "        rc += pairs[letter]\n",
    "    return rc"
   ]
  },
  {
   "cell_type": "code",
   "execution_count": 30,
   "metadata": {},
   "outputs": [
    {
     "data": {
      "text/plain": [
       "'GCAT'"
      ]
     },
     "execution_count": 30,
     "metadata": {},
     "output_type": "execute_result"
    }
   ],
   "source": [
    "ReverseComplement(\"ATGC\")"
   ]
  },
  {
   "cell_type": "code",
   "execution_count": 32,
   "metadata": {},
   "outputs": [],
   "source": [
    "with open(\"data/dataset_3_2.txt\") as f:\n",
    "    rc = ReverseComplement(f.read().rstrip(\"\\n\"))\n",
    "with open(\"answer/dataset_3_2_answer.txt\", \"w\") as fout:\n",
    "    fout.write(rc+\"\\n\")"
   ]
  },
  {
   "cell_type": "markdown",
   "metadata": {},
   "source": [
    "    Pattern Matching Problem: Find all occurrences of a pattern in a string.\n",
    "        Input: Two strings, Pattern and Genome.\n",
    "        Output: All starting positions where Pattern appears as a substring of Genome."
   ]
  },
  {
   "cell_type": "code",
   "execution_count": 34,
   "metadata": {},
   "outputs": [],
   "source": [
    "def PatternMatching(Pattern, Genome):\n",
    "    loc = []\n",
    "    for idx in range(len(Genome) - len(Pattern) + 1):\n",
    "        if Genome[idx: idx+len(Pattern)] == Pattern:\n",
    "            loc.append(idx)\n",
    "    return loc"
   ]
  },
  {
   "cell_type": "code",
   "execution_count": 36,
   "metadata": {},
   "outputs": [],
   "source": [
    "with open(\"data/dataset_3_5.txt\") as f:\n",
    "    pattern, genome = f.read().rstrip().split()\n",
    "    loc = PatternMatching(pattern, genome)"
   ]
  },
  {
   "cell_type": "code",
   "execution_count": 37,
   "metadata": {},
   "outputs": [],
   "source": [
    "with open(\"answer/dataset_3_5_answer.txt\", \"w\") as fout: \n",
    "    fout.write(\" \".join(map(str, loc)) + \"\\n\")"
   ]
  },
  {
   "cell_type": "code",
   "execution_count": 38,
   "metadata": {},
   "outputs": [],
   "source": [
    "pattern = \"CTTGATCAT\""
   ]
  },
  {
   "cell_type": "code",
   "execution_count": 40,
   "metadata": {},
   "outputs": [],
   "source": [
    "with open(\"data/Vibrio_cholerae.txt\", \"r\") as f:\n",
    "    genome = f.read().strip()"
   ]
  },
  {
   "cell_type": "code",
   "execution_count": 41,
   "metadata": {},
   "outputs": [
    {
     "name": "stdout",
     "output_type": "stream",
     "text": [
      "60039 98409 129189 152283 152354 152411 163207 197028 200160 357976 376771 392723 532935 600085 622755 1065555\n"
     ]
    }
   ],
   "source": [
    "print(*PatternMatching(pattern, genome), sep=\" \")"
   ]
  },
  {
   "cell_type": "markdown",
   "metadata": {},
   "source": [
    "    Clump Finding Problem: Find patterns forming clumps in a string.\n",
    "         Input: A string Genome, and integers k, L, and t.\n",
    "         Output: All distinct k-mers forming (L, t)-clumps in Genome."
   ]
  },
  {
   "cell_type": "markdown",
   "metadata": {},
   "source": [
    "    ClumpFinding(Genome, k, L, t)\n",
    "        FrequentPatterns ← an empty set\n",
    "        for i ← 0 to 4k − 1\n",
    "            Clump(i) ← 0\n",
    "        for i ← 0 to |Genome| − L\n",
    "            Text ← the string of length L starting at position i in Genome \n",
    "            FrequencyArray ← ComputingFrequencies(Text, k)\n",
    "            for index ← 0 to 4k − 1\n",
    "                if FrequencyArray(index) ≥ t\n",
    "                    Clump(index) ← 1\n",
    "        for i ← 0 to 4k − 1\n",
    "            if Clump(i) = 1\n",
    "                Pattern ← NumberToPattern(i, k)\n",
    "                add Pattern to the set FrequentPatterns\n",
    "        return FrequentPatterns"
   ]
  },
  {
   "cell_type": "code",
   "execution_count": 43,
   "metadata": {},
   "outputs": [],
   "source": [
    "def ClumpFinding(Genome, k, L, t):\n",
    "    frequent_pattern = set()\n",
    "    clump = [0] * pow(4, k)\n",
    "    for i in range(len(Genome) - L + 1):\n",
    "        text = Genome[i: i+L]\n",
    "        frequency_array = ComputingFrequencies(text, k)\n",
    "        for idx in range(pow(4, k)):\n",
    "            if frequency_array[idx] >= t:\n",
    "                clump[idx] = 1\n",
    "    for i in range(pow(4, k)):\n",
    "        if clump[i] == 1:\n",
    "            pattern = NumberToPattern(i, k)\n",
    "            frequent_pattern.add(pattern)\n",
    "    return frequent_pattern\n",
    "            "
   ]
  },
  {
   "cell_type": "code",
   "execution_count": 44,
   "metadata": {},
   "outputs": [],
   "source": [
    "with open(\"data/Vibrio_cholerae.txt\") as f:\n",
    "    genome = f.read().strip()"
   ]
  },
  {
   "cell_type": "code",
   "execution_count": 45,
   "metadata": {},
   "outputs": [
    {
     "data": {
      "text/plain": [
       "{'AAGCATGAT', 'AGCATGATC', 'CATGATCAT', 'GCATGATCA'}"
      ]
     },
     "execution_count": 45,
     "metadata": {},
     "output_type": "execute_result"
    }
   ],
   "source": [
    "ClumpFinding(genome[150000:152000], 9, 500, 3)"
   ]
  },
  {
   "cell_type": "markdown",
   "metadata": {},
   "source": [
    "genome: ゲノムは配列、k: k-mer length, t, L: t回以上長さLの部分配列に現れるk-merを選択\n",
    "\n",
    "    BetterClumpFinding(Genome, k, t, L)\n",
    "        FrequentPatterns ← an empty set\n",
    "        for i ← 0 to 4k − 1\n",
    "            Clump(i) ← 0\n",
    "        Text ← Genome(0, L)\n",
    "        FrequencyArray ← ComputingFrequencies(Text, k)\n",
    "        for i ← 0 to 4k − 1\n",
    "            if FrequencyArray(i) ≥ t\n",
    "                Clump(i) ← 1\n",
    "        for i ← 1 to |Genome| − L\n",
    "            FirstPattern ← Genome(i − 1, k)\n",
    "            index ← PatternToNumber(FirstPattern)\n",
    "            FrequencyArray(index) ← FrequencyArray(index) − 1\n",
    "            LastPattern ← Genome(i + L − k, k)\n",
    "            index ← PatternToNumber(LastPattern)\n",
    "            FrequencyArray(index) ← FrequencyArray(index) + 1\n",
    "            if FrequencyArray(index) ≥ t\n",
    "                Clump(index) ← 1\n",
    "        for i ← 0 to 4k − 1\n",
    "            if Clump(i) = 1\n",
    "                Pattern ← NumberToPattern(i, k)\n",
    "                add Pattern to the set FrequentPatterns\n",
    "        return FrequentPatterns"
   ]
  },
  {
   "cell_type": "code",
   "execution_count": 46,
   "metadata": {},
   "outputs": [
    {
     "name": "stdout",
     "output_type": "stream",
     "text": [
      "1234\n",
      "2345\n"
     ]
    },
    {
     "data": {
      "text/plain": [
       "'123'"
      ]
     },
     "execution_count": 46,
     "metadata": {},
     "output_type": "execute_result"
    }
   ],
   "source": [
    "a = \"123456\"\n",
    "print(a[:4])\n",
    "print(a[1:5])\n",
    "i = 1\n",
    "k = 3\n",
    "a[i-1:i+k-1]"
   ]
  },
  {
   "cell_type": "code",
   "execution_count": 47,
   "metadata": {},
   "outputs": [],
   "source": [
    "def BetterClumpFinding(Genome, k, L, t):\n",
    "    frequent_pattern = set()\n",
    "    clump = [0] * pow(4, k)\n",
    "    text = Genome[:L]\n",
    "    frequency_array = ComputingFrequencies(text, k)\n",
    "    for i in range(pow(4, k)):\n",
    "        if frequency_array[i] >= t:\n",
    "            clump[i] = 1\n",
    "    for i in range(1, len(Genome) - L + 1):\n",
    "        first_pattern = Genome[i-1: i+k-1]\n",
    "        index = PatternToNumber(first_pattern)\n",
    "        frequency_array[index] -= 1\n",
    "        last_pattern = Genome[i+L-k: i+L]\n",
    "        index = PatternToNumber(last_pattern)\n",
    "        frequency_array[index] += 1\n",
    "        if frequency_array[index] >= t:\n",
    "            clump[index] = 1\n",
    "\n",
    "    for i in range(pow(4, k)):\n",
    "        if clump[i] == 1:\n",
    "            pattern = NumberToPattern(i, k)\n",
    "            frequent_pattern.add(pattern)\n",
    "    return frequent_pattern          "
   ]
  },
  {
   "cell_type": "code",
   "execution_count": 48,
   "metadata": {},
   "outputs": [
    {
     "name": "stdout",
     "output_type": "stream",
     "text": [
      "Wall time: 23 s\n"
     ]
    },
    {
     "data": {
      "text/plain": [
       "{'AAGCATGAT', 'AGCATGATC', 'CATGATCAT', 'GCATGATCA'}"
      ]
     },
     "execution_count": 48,
     "metadata": {},
     "output_type": "execute_result"
    }
   ],
   "source": [
    "%time ClumpFinding(genome[150000:152000], 9, 500, 3)"
   ]
  },
  {
   "cell_type": "code",
   "execution_count": 49,
   "metadata": {},
   "outputs": [
    {
     "name": "stdout",
     "output_type": "stream",
     "text": [
      "Wall time: 49.3 ms\n"
     ]
    },
    {
     "data": {
      "text/plain": [
       "{'AAGCATGAT', 'AGCATGATC', 'CATGATCAT', 'GCATGATCA'}"
      ]
     },
     "execution_count": 49,
     "metadata": {},
     "output_type": "execute_result"
    }
   ],
   "source": [
    "%time BetterClumpFinding(genome[150000:152000], 9, 500, 3)"
   ]
  },
  {
   "cell_type": "code",
   "execution_count": 50,
   "metadata": {},
   "outputs": [
    {
     "name": "stdout",
     "output_type": "stream",
     "text": [
      "set()\n"
     ]
    }
   ],
   "source": [
    "with open(\"data/dataset_4_5.txt\") as f:\n",
    "    genome = next(f).rstrip(\"\\n\")\n",
    "    k, L, t = map(int, next(f).rstrip(\"\\n\").split())\n",
    "    print(BetterClumpFinding(genome, k, L, t))"
   ]
  },
  {
   "cell_type": "code",
   "execution_count": 51,
   "metadata": {},
   "outputs": [
    {
     "name": "stdout",
     "output_type": "stream",
     "text": [
      "10 29 3\n"
     ]
    }
   ],
   "source": [
    "print(k, L, t)"
   ]
  },
  {
   "cell_type": "code",
   "execution_count": 52,
   "metadata": {},
   "outputs": [
    {
     "name": "stdout",
     "output_type": "stream",
     "text": [
      "set()\n"
     ]
    }
   ],
   "source": [
    "print(ClumpFinding(genome, k, L, t))"
   ]
  },
  {
   "cell_type": "code",
   "execution_count": 59,
   "metadata": {
    "scrolled": false
   },
   "outputs": [],
   "source": [
    "with open(\"data/E_coli.txt\") as f:\n",
    "    e_coli = f.read().strip(\"\\n\")\n",
    "ret = BetterClumpFinding(e_coli, L=500, k=9, t=3)\n",
    "#print(ret)"
   ]
  },
  {
   "cell_type": "code",
   "execution_count": 54,
   "metadata": {},
   "outputs": [
    {
     "name": "stdout",
     "output_type": "stream",
     "text": [
      "1904\n"
     ]
    }
   ],
   "source": [
    "print(len(ret))"
   ]
  },
  {
   "cell_type": "code",
   "execution_count": 55,
   "metadata": {},
   "outputs": [],
   "source": [
    "text = \"CGGAGGACTCTAGGTAACGCTTATCAGGTCCATAGGACATTCA\"\n",
    "threemers = []\n",
    "for idx in range(len(text) - 3 + 1):\n",
    "    threemers.append(text[idx:idx+3])"
   ]
  },
  {
   "cell_type": "code",
   "execution_count": 56,
   "metadata": {},
   "outputs": [
    {
     "data": {
      "text/plain": [
       "[('AGG', 4),\n",
       " ('GGA', 3),\n",
       " ('GAC', 2),\n",
       " ('TAG', 2),\n",
       " ('GGT', 2),\n",
       " ('TCA', 2),\n",
       " ('CAT', 2),\n",
       " ('CGG', 1),\n",
       " ('GAG', 1),\n",
       " ('ACT', 1),\n",
       " ('CTC', 1),\n",
       " ('TCT', 1),\n",
       " ('CTA', 1),\n",
       " ('GTA', 1),\n",
       " ('TAA', 1),\n",
       " ('AAC', 1),\n",
       " ('ACG', 1),\n",
       " ('CGC', 1),\n",
       " ('GCT', 1),\n",
       " ('CTT', 1),\n",
       " ('TTA', 1),\n",
       " ('TAT', 1),\n",
       " ('ATC', 1),\n",
       " ('CAG', 1),\n",
       " ('GTC', 1),\n",
       " ('TCC', 1),\n",
       " ('CCA', 1),\n",
       " ('ATA', 1),\n",
       " ('ACA', 1),\n",
       " ('ATT', 1),\n",
       " ('TTC', 1)]"
      ]
     },
     "execution_count": 56,
     "metadata": {},
     "output_type": "execute_result"
    }
   ],
   "source": [
    "from collections import Counter\n",
    "Counter(threemers).most_common()"
   ]
  },
  {
   "cell_type": "code",
   "execution_count": 57,
   "metadata": {},
   "outputs": [
    {
     "data": {
      "text/plain": [
       "'GATCTGG'"
      ]
     },
     "execution_count": 57,
     "metadata": {},
     "output_type": "execute_result"
    }
   ],
   "source": [
    "ReverseComplement(\"CCAGATC\")"
   ]
  },
  {
   "cell_type": "code",
   "execution_count": 58,
   "metadata": {},
   "outputs": [
    {
     "name": "stdout",
     "output_type": "stream",
     "text": [
      "7\n",
      "15\n",
      "17\n"
     ]
    }
   ],
   "source": [
    "text = \"ATGACTTCGCTGTTACGCGC\"\n",
    "pattern = \"CGC\"\n",
    "for idx in range(len(text) - 3 + 1):\n",
    "    if text[idx: idx+3] == pattern:\n",
    "        print(idx)"
   ]
  },
  {
   "cell_type": "code",
   "execution_count": null,
   "metadata": {},
   "outputs": [],
   "source": []
  }
 ],
 "metadata": {
  "kernelspec": {
   "display_name": "Python 3",
   "language": "python",
   "name": "python3"
  },
  "language_info": {
   "codemirror_mode": {
    "name": "ipython",
    "version": 3
   },
   "file_extension": ".py",
   "mimetype": "text/x-python",
   "name": "python",
   "nbconvert_exporter": "python",
   "pygments_lexer": "ipython3",
   "version": "3.7.6"
  }
 },
 "nbformat": 4,
 "nbformat_minor": 4
}
