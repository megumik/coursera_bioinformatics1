{
 "cells": [
  {
   "cell_type": "markdown",
   "metadata": {},
   "source": [
    "### Minimum Skew Problem: Find a position in a genome minimizing the skew. \n",
    "   Input: A DNA string Genome.  \n",
    "   Output: All integer(s) _i_ minimizing Skew<sub>i</sub>(Genome) among all values of _i_ (from 0 to |Genome|).  "
   ]
  },
  {
   "cell_type": "code",
   "execution_count": 1,
   "metadata": {},
   "outputs": [],
   "source": [
    "def skew_list(Genome):\n",
    "    skews = [0] * (len(Genome) + 1)\n",
    "    skew = 0\n",
    "    for idx in range(len(Genome)):\n",
    "        if Genome[idx] == \"G\":\n",
    "            skew += 1\n",
    "        elif Genome[idx] == \"C\":\n",
    "            skew -= 1\n",
    "        skews[idx+1] = skew\n",
    "    return skews\n",
    "\n",
    "def MinimumSkew(Genome):\n",
    "    skews = skew_list(Genome)\n",
    "    min_skew = min(skews)\n",
    "    min_skew_list = []\n",
    "    for idx in range(len(skews)):\n",
    "        if skews[idx] == min_skew:\n",
    "            min_skew_list.append(idx)\n",
    "    return min_skew_list"
   ]
  },
  {
   "cell_type": "code",
   "execution_count": 2,
   "metadata": {},
   "outputs": [
    {
     "data": {
      "text/plain": [
       "[11, 24]"
      ]
     },
     "execution_count": 2,
     "metadata": {},
     "output_type": "execute_result"
    }
   ],
   "source": [
    "genome = \"TAAAGACTGCCGAGAGGCCAACACGAGTGCTAGAACGAGGGGCGTAAACGCGGGTCCGAT\"\n",
    "MinimumSkew(genome)"
   ]
  },
  {
   "cell_type": "code",
   "execution_count": 4,
   "metadata": {},
   "outputs": [],
   "source": [
    "with open(\"data/dataset_7_6.txt\") as f:\n",
    "    genome = f.read().strip()\n",
    "min_skews = MinimumSkew(genome)"
   ]
  },
  {
   "cell_type": "code",
   "execution_count": 5,
   "metadata": {},
   "outputs": [
    {
     "data": {
      "text/plain": [
       "[61397]"
      ]
     },
     "execution_count": 5,
     "metadata": {},
     "output_type": "execute_result"
    }
   ],
   "source": [
    "min_skews"
   ]
  },
  {
   "cell_type": "markdown",
   "metadata": {},
   "source": [
    "### Hamming Distance Problem: Compute the Hamming distance between two strings.\n",
    "Input: Two strings of equal length.  \n",
    "Output: The Hamming distance between these strings."
   ]
  },
  {
   "cell_type": "code",
   "execution_count": 3,
   "metadata": {},
   "outputs": [],
   "source": [
    "def HammingDistance(p, q):\n",
    "    hmm_d = 0\n",
    "    for i in range(len(p)):\n",
    "        if p[i] != q[i]:\n",
    "            hmm_d += 1\n",
    "    return hmm_d"
   ]
  },
  {
   "cell_type": "code",
   "execution_count": 4,
   "metadata": {},
   "outputs": [
    {
     "data": {
      "text/plain": [
       "889"
      ]
     },
     "execution_count": 4,
     "metadata": {},
     "output_type": "execute_result"
    }
   ],
   "source": [
    "with open(\"data/dataset_9_3.txt\") as f:\n",
    "    p, q = f.read().strip().split()\n",
    "HammingDistance(p, q)"
   ]
  },
  {
   "cell_type": "markdown",
   "metadata": {},
   "source": [
    "### Approximate Pattern Matching Problem: Find all approximate occurrences of a pattern in a string.\n",
    "Input: Strings _Pattern_ and _Text_ along with an integer _d_.  \n",
    "Output: All starting positions where _Pattern_ appears as a substring of _Text_ with at most _d_ mismatches."
   ]
  },
  {
   "cell_type": "code",
   "execution_count": 5,
   "metadata": {},
   "outputs": [],
   "source": [
    "def ApproximatePatternMatching(Text, Pattern, d):\n",
    "    positions = [] # initializing list of positions\n",
    "    for idx in range(len(Text) - len(Pattern) + 1):\n",
    "        kmer = Text[idx: idx+len(Pattern)]\n",
    "        if HammingDistance(kmer, Pattern) <= d:\n",
    "            positions.append(idx)\n",
    "    return positions"
   ]
  },
  {
   "cell_type": "code",
   "execution_count": 6,
   "metadata": {},
   "outputs": [],
   "source": [
    "pattern = \"ATTCTGGA\"\n",
    "text = \"CGCCCGAATCCAGAACGCATTCCCATATTTCGGGACCACTGGCCTCCACGGTACGGACGTCAATCAAAT\"\n",
    "d = 3"
   ]
  },
  {
   "cell_type": "code",
   "execution_count": 7,
   "metadata": {},
   "outputs": [
    {
     "data": {
      "text/plain": [
       "[6, 7, 26, 27]"
      ]
     },
     "execution_count": 7,
     "metadata": {},
     "output_type": "execute_result"
    }
   ],
   "source": [
    "ApproximatePatternMatching(text, pattern, d)"
   ]
  },
  {
   "cell_type": "code",
   "execution_count": 13,
   "metadata": {},
   "outputs": [],
   "source": [
    "with open(\"data/dataset_9_4.txt\") as fin:\n",
    "    pattern, genome, d = fin.read().rstrip().split()\n",
    "ret = ApproximatePatternMatching(genome, pattern, int(d))\n",
    "with open(\"answer/dataset_9_4_answer.txt\", \"w\") as fout:\n",
    "    fout.write(\" \".join(map(str, ret))+\"\\n\")"
   ]
  },
  {
   "cell_type": "markdown",
   "metadata": {},
   "source": [
    "Q. d = 2の時、Count2(AACAAGCTGATAAACATTTAAAGAG, AAAAA)？？"
   ]
  },
  {
   "cell_type": "code",
   "execution_count": 8,
   "metadata": {},
   "outputs": [
    {
     "data": {
      "text/plain": [
       "11"
      ]
     },
     "execution_count": 8,
     "metadata": {},
     "output_type": "execute_result"
    }
   ],
   "source": [
    "len(ApproximatePatternMatching(\"AACAAGCTGATAAACATTTAAAGAG\", \"AAAAA\", 2))"
   ]
  },
  {
   "cell_type": "markdown",
   "metadata": {},
   "source": [
    "### Approximate Pattern Count\n",
    "```\n",
    "ApproximatePatternCount(Text, Pattern, d)\n",
    "        count ← 0\n",
    "        for i ← 0 to |Text| − |Pattern|\n",
    "            Pattern′ ← Text(i , |Pattern|)\n",
    "            if HammingDistance(Pattern, Pattern′) ≤ d\n",
    "                count ← count + 1\n",
    "        return count\n",
    "```"
   ]
  },
  {
   "cell_type": "code",
   "execution_count": 9,
   "metadata": {},
   "outputs": [],
   "source": [
    "def ApproximatePatternCount(Text, Pattern, d):\n",
    "    count = 0\n",
    "    for idx in range(len(Text) - len(Pattern) + 1):\n",
    "        pattern_ = Text[idx: idx+len(Pattern)]\n",
    "        if HammingDistance(Pattern, pattern_) <= d:\n",
    "            count += 1\n",
    "    return count"
   ]
  },
  {
   "cell_type": "code",
   "execution_count": 10,
   "metadata": {},
   "outputs": [
    {
     "data": {
      "text/plain": [
       "121"
      ]
     },
     "execution_count": 10,
     "metadata": {},
     "output_type": "execute_result"
    }
   ],
   "source": [
    "with open(\"data/dataset_9_6.txt\") as fin:\n",
    "    pattern, text, d = fin.read().strip().split()\n",
    "ApproximatePatternCount(text, pattern, int(d))"
   ]
  },
  {
   "cell_type": "markdown",
   "metadata": {},
   "source": [
    "Find all kmers whose hamming distances from Pattern are at most 1.\n",
    "```\n",
    "    ImmediateNeighbors(Pattern)\n",
    "        Neighborhood ← the set consisting of single string Pattern\n",
    "        for i = 1 to |Pattern|\n",
    "            symbol ← i-th nucleotide of Pattern\n",
    "            for each nucleotide x different from symbol\n",
    "                Neighbor ← Pattern with the i-th nucleotide substituted by x\n",
    "                add Neighbor to Neighborhood\n",
    "        return Neighborhood\n",
    "```"
   ]
  },
  {
   "cell_type": "code",
   "execution_count": null,
   "metadata": {},
   "outputs": [],
   "source": []
  }
 ],
 "metadata": {
  "kernelspec": {
   "display_name": "Python 3",
   "language": "python",
   "name": "python3"
  },
  "language_info": {
   "codemirror_mode": {
    "name": "ipython",
    "version": 3
   },
   "file_extension": ".py",
   "mimetype": "text/x-python",
   "name": "python",
   "nbconvert_exporter": "python",
   "pygments_lexer": "ipython3",
   "version": "3.7.6"
  }
 },
 "nbformat": 4,
 "nbformat_minor": 4
}
